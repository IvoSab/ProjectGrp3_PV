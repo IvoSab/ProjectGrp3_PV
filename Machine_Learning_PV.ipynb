{
 "cells": [
  {
   "cell_type": "code",
   "execution_count": 1,
   "metadata": {},
   "outputs": [],
   "source": [
    "import numpy as np \n",
    "import pandas as pd\n",
    "import matplotlib.pyplot as plt \n",
    "import seaborn as sns \n"
   ]
  },
  {
   "cell_type": "code",
   "execution_count": 5,
   "metadata": {},
   "outputs": [
    {
     "name": "stdout",
     "output_type": "stream",
     "text": [
      "                                                          Timestamp;Timestamp numerical;WR I Energy positiv [Ws];WR III Energy positiv [Ws];Sum Energy positiv [Ws];Sum Energy positiv [kWh];dt_iso +0000 UTC;lat;lon;temp;feels_like;temp_min;temp_max;pressure;humidity;wind_speed;wind_deg;rain_1h;rain_3h;snow_1h;clouds_all;weather_id;weather_main;weather_description;\n",
      "22.09.2020 13:00;44096 54167;9 84E+05;9 93E+05;1 98E+06;0  55;22.09.2020 13:00;47.453572;15.331721;23.46;...                                                                                                                                                                                                                                                                 \n",
      "22.09.2020 14:00;44096 58333;1 03E+06;1 00E+06;2 03E+06;0  56;22.09.2020 14:00;47.453572;15.331721;23.38;...                                                                                                                                                                                                                                                                 \n",
      "22.09.2020 15:00;44096 625;6   36E+05;5 53E+05;1 19E+06;0  33;22.09.2020 15:00;47.453572;15.331721;22.61;...                                                                                                                                                                                                                                                                 \n",
      "22.09.2020 16:00;44096 66667;4 56E+05;4 18E+05;8 74E+05;0  24;22.09.2020 16:00;47.453572;15.331721;20.64;...                                                                                                                                                                                                                                                                 \n",
      "22.09.2020 17:00;44096 70833;1 26E+05;1 37E+05;2 63E+05;0  07;22.09.2020 17:00;47.453572;15.331721;18.44;...                                                                                                                                                                                                                                                                 \n",
      "...                                                                                                      ...                                                                                                                                                                                                                                                                 \n",
      "02.12.2020 09:00;44167 375;1   27E+05;1 31E+05;2 58E+05;0  07;02.12.2020 09:00;47.453572;15.331721;-1.32;...                                                                                                                                                                                                                                                                 \n",
      "02.12.2020 10:00;44167 41667;2 56E+05;2 67E+05;5 23E+05;0  15;02.12.2020 10:00;47.453572;15.331721;-0.83;...                                                                                                                                                                                                                                                                 \n",
      "02.12.2020 11:00;44167 45833;1 60E+05;1 69E+05;3 29E+05;0  09;02.12.2020 11:00;47.453572;15.331721;-0.14;...                                                                                                                                                                                                                                                                 \n",
      "02.12.2020 12:00;44167 5;2     64E+05;2 75E+05;5 39E+05;0  15;02.12.2020 12:00;47.453572;15.331721;-0.27;...                                                                                                                                                                                                                                                                 \n",
      "02.12.2020 13:00;44167 54167;1 61E+05;1 72E+05;3 33E+05;0  09;02.12.2020 13:00;47.453572;15.331721;-0.41;...                                                                                                                                                                                                                                                                 \n",
      "\n",
      "[1705 rows x 1 columns]\n"
     ]
    }
   ],
   "source": [
    "initial_data = pd.read_csv('DATA_hourly_result.csv')\n",
    "test=initial_data\n",
    "print(test)"
   ]
  },
  {
   "cell_type": "code",
   "execution_count": null,
   "metadata": {},
   "outputs": [],
   "source": []
  }
 ],
 "metadata": {
  "kernelspec": {
   "display_name": "Python 3",
   "language": "python",
   "name": "python3"
  },
  "language_info": {
   "codemirror_mode": {
    "name": "ipython",
    "version": 3
   },
   "file_extension": ".py",
   "mimetype": "text/x-python",
   "name": "python",
   "nbconvert_exporter": "python",
   "pygments_lexer": "ipython3",
   "version": "3.8.3"
  }
 },
 "nbformat": 4,
 "nbformat_minor": 4
}
